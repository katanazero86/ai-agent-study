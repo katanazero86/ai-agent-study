{
 "cells": [
  {
   "cell_type": "code",
   "execution_count": null,
   "id": "27a6d615-4acb-45a4-a74d-ce15a3132738",
   "metadata": {},
   "outputs": [],
   "source": [
    "import os\n",
    "\n",
    "os.environ[\n",
    "    \"OPENAI_API_KEY\"] = \"your-key\"\n",
    "\n",
    "def main():\n",
    "    from openai import OpenAI\n",
    "\n",
    "    client = OpenAI(api_key=os.environ[\"OPENAI_API_KEY\"])\n",
    "    response = client.images.generate(\n",
    "        model=\"dall-e-3\",\n",
    "        prompt=\"'꽃말의 비밀 정원' 전자상거래 앱의 새해 장미꽃 홍보 포스터, 문구도 포함해서\",\n",
    "        size=\"1024x1024\",\n",
    "        quality=\"standard\",\n",
    "        n=1\n",
    "    )\n",
    "\n",
    "    img_url = response.data[0].url\n",
    "\n",
    "    import requests\n",
    "    image = requests.get(img_url)\n",
    "    from IPython.display import Image, display\n",
    "\n",
    "    display(Image(data=image.content))\n",
    "\n",
    "if __name__ == \"__main__\":\n",
    "    main()"
   ]
  },
  {
   "cell_type": "code",
   "execution_count": null,
   "id": "cfa6d170-c026-4baa-9bb0-691d08abe33e",
   "metadata": {},
   "outputs": [],
   "source": []
  },
  {
   "cell_type": "code",
   "execution_count": null,
   "id": "1d8e2787-4604-406c-9396-9e4019caac41",
   "metadata": {},
   "outputs": [],
   "source": []
  }
 ],
 "metadata": {
  "kernelspec": {
   "display_name": "Python [conda env:base] *",
   "language": "python",
   "name": "conda-base-py"
  },
  "language_info": {
   "codemirror_mode": {
    "name": "ipython",
    "version": 3
   },
   "file_extension": ".py",
   "mimetype": "text/x-python",
   "name": "python",
   "nbconvert_exporter": "python",
   "pygments_lexer": "ipython3",
   "version": "3.12.7"
  }
 },
 "nbformat": 4,
 "nbformat_minor": 5
}
